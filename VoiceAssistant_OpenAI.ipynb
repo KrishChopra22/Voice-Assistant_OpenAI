{
  "nbformat": 4,
  "nbformat_minor": 0,
  "metadata": {
    "colab": {
      "provenance": [],
      "authorship_tag": "ABX9TyMAlJQ4cCuWWwMmTyqLX8sv"
    },
    "kernelspec": {
      "name": "python3",
      "display_name": "Python 3"
    },
    "language_info": {
      "name": "python"
    },
    "accelerator": "GPU",
    "gpuClass": "standard"
  },
  "cells": [
    {
      "cell_type": "markdown",
      "source": [
        "# Initialization"
      ],
      "metadata": {
        "id": "7TfQmQGV-MFJ"
      }
    },
    {
      "cell_type": "markdown",
      "source": [
        "**Install Modules**"
      ],
      "metadata": {
        "id": "Ia4v5a8h9DNp"
      }
    },
    {
      "cell_type": "code",
      "execution_count": null,
      "metadata": {
        "id": "t4t_YNeg8OhV"
      },
      "outputs": [],
      "source": [
        "!pip install -q git+https://github.com/openai/whisper.git\n",
        "!pip install -q pyChatGPT\n",
        "!pip install -q gradio\n",
        "!pip install gTTS\n",
        "!pip install colorama==0.4.3"
      ]
    },
    {
      "cell_type": "markdown",
      "source": [
        "**Import Modules**"
      ],
      "metadata": {
        "id": "26Rds90b9dxT"
      }
    },
    {
      "cell_type": "code",
      "source": [
        "import whisper #Speech To Text model\n",
        "from pyChatGPT import ChatGPT #ChatBot AI built using NLP\n",
        "import gradio as gr #User Interface\n",
        "import warnings #Handle Warnings\n",
        "from gtts import gTTS #Text To Speech model"
      ],
      "metadata": {
        "id": "_QwmTNbU9cpX"
      },
      "execution_count": 35,
      "outputs": []
    },
    {
      "cell_type": "markdown",
      "source": [
        "**Define Variables**"
      ],
      "metadata": {
        "id": "pDO7tWvT9q7O"
      }
    },
    {
      "cell_type": "code",
      "source": [
        "warnings.filterwarnings(\"ignore\")"
      ],
      "metadata": {
        "id": "4v3xgDvZ9wV0"
      },
      "execution_count": 36,
      "outputs": []
    },
    {
      "cell_type": "code",
      "source": [
        "secret_token = \"\" # Enter your session token here!"
      ],
      "metadata": {
        "id": "SmS0dSS492Fp"
      },
      "execution_count": 53,
      "outputs": []
    },
    {
      "cell_type": "code",
      "source": [
        "model = whisper.load_model(\"base\")"
      ],
      "metadata": {
        "id": "K00o9KjE97n0"
      },
      "execution_count": 38,
      "outputs": []
    },
    {
      "cell_type": "code",
      "source": [
        "model.device"
      ],
      "metadata": {
        "colab": {
          "base_uri": "https://localhost:8080/"
        },
        "id": "TTzrZaR29-SF",
        "outputId": "285eae36-ad72-4e36-907b-e0ace23267b2"
      },
      "execution_count": 39,
      "outputs": [
        {
          "output_type": "execute_result",
          "data": {
            "text/plain": [
              "device(type='cuda', index=0)"
            ]
          },
          "metadata": {},
          "execution_count": 39
        }
      ]
    },
    {
      "cell_type": "markdown",
      "source": [
        "# Transcribing Function"
      ],
      "metadata": {
        "id": "lZMk6Rqn-GDB"
      }
    },
    {
      "cell_type": "code",
      "source": [
        "def transcribe(audio):\n",
        "\n",
        "    # load audio and pad/trim it to fit 30 seconds\n",
        "    audio = whisper.load_audio(audio)\n",
        "    audio = whisper.pad_or_trim(audio)\n",
        "\n",
        "    # make log-Mel spectrogram and move to the same device as the model\n",
        "    mel = whisper.log_mel_spectrogram(audio).to(model.device)\n",
        "\n",
        "    # detect the spoken language\n",
        "    _, probs = model.detect_language(mel)\n",
        "\n",
        "    # decode the audio\n",
        "    options = whisper.DecodingOptions()\n",
        "    result = whisper.decode(model, mel, options)\n",
        "    result_text = result.text\n",
        "\n",
        "    # Pass the generated text to ChatGPT\n",
        "    chatgpt_api = ChatGPT(secret_token)\n",
        "    resp = chatgpt_api.send_message(result_text)\n",
        "    out_result = resp['message']\n",
        "\n",
        "    # Text to Speech\n",
        "    gtts_obj = gTTS(text = out_result, lang=\"en\", tld=\"ca\", slow=False)\n",
        "    gtts_obj.save(\"/content/gtts.wav\")\n",
        "\n",
        "    return [result_text, out_result, \"/content/gtts.wav\"]"
      ],
      "metadata": {
        "id": "1IermkEV-J8b"
      },
      "execution_count": 80,
      "outputs": []
    },
    {
      "cell_type": "markdown",
      "source": [
        "# Talk with AI - Gradio User Interface"
      ],
      "metadata": {
        "id": "LQh2hLF3_LwQ"
      }
    },
    {
      "cell_type": "code",
      "source": [
        "output_user = gr.Textbox(label=\"User's Input -\")\n",
        "output_AI = gr.Textbox(label=\"AI's Response -\")\n",
        "output_AI_audio = gr.Audio(label=\"Listen...\")\n",
        "\n",
        "\n",
        "gr.Interface(\n",
        "    title = 'Get all your questions answered from me...', \n",
        "    fn = transcribe, \n",
        "    inputs=[\n",
        "        gr.inputs.Audio(source=\"microphone\", label=\"Talk to me, by pressing this button below\", type=\"filepath\")\n",
        "    ],\n",
        "\n",
        "    outputs=[\n",
        "        output_user, output_AI, output_AI_audio\n",
        "    ],\n",
        "    live=True, share=True).launch()"
      ],
      "metadata": {
        "colab": {
          "base_uri": "https://localhost:8080/",
          "height": 633
        },
        "id": "-OHV-R9dMQoP",
        "outputId": "a601cc31-e93f-491f-ecd8-72b669cababa"
      },
      "execution_count": 82,
      "outputs": [
        {
          "output_type": "stream",
          "name": "stdout",
          "text": [
            "Hint: Set streaming=True for Audio component to use live streaming.\n",
            "Colab notebook detected. To show errors in colab notebook, set `debug=True` in `launch()`\n",
            "Note: opening Chrome Inspector may crash demo inside Colab notebooks.\n",
            "\n",
            "To create a public link, set `share=True` in `launch()`.\n"
          ]
        },
        {
          "output_type": "display_data",
          "data": {
            "text/plain": [
              "<IPython.core.display.Javascript object>"
            ],
            "application/javascript": [
              "(async (port, path, width, height, cache, element) => {\n",
              "                        if (!google.colab.kernel.accessAllowed && !cache) {\n",
              "                            return;\n",
              "                        }\n",
              "                        element.appendChild(document.createTextNode(''));\n",
              "                        const url = await google.colab.kernel.proxyPort(port, {cache});\n",
              "\n",
              "                        const external_link = document.createElement('div');\n",
              "                        external_link.innerHTML = `\n",
              "                            <div style=\"font-family: monospace; margin-bottom: 0.5rem\">\n",
              "                                Running on <a href=${new URL(path, url).toString()} target=\"_blank\">\n",
              "                                    https://localhost:${port}${path}\n",
              "                                </a>\n",
              "                            </div>\n",
              "                        `;\n",
              "                        element.appendChild(external_link);\n",
              "\n",
              "                        const iframe = document.createElement('iframe');\n",
              "                        iframe.src = new URL(path, url).toString();\n",
              "                        iframe.height = height;\n",
              "                        iframe.allow = \"autoplay; camera; microphone; clipboard-read; clipboard-write;\"\n",
              "                        iframe.width = width;\n",
              "                        iframe.style.border = 0;\n",
              "                        element.appendChild(iframe);\n",
              "                    })(7879, \"/\", \"100%\", 500, false, window.element)"
            ]
          },
          "metadata": {}
        },
        {
          "output_type": "execute_result",
          "data": {
            "text/plain": []
          },
          "metadata": {},
          "execution_count": 82
        }
      ]
    }
  ]
}